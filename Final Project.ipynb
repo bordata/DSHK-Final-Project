{
 "cells": [
  {
   "cell_type": "code",
   "execution_count": 21,
   "metadata": {
    "collapsed": false
   },
   "outputs": [
    {
     "ename": "ValueError",
     "evalue": "unknown locale: UTF-8",
     "output_type": "error",
     "traceback": [
      "\u001b[0;31m---------------------------------------------------------------------------\u001b[0m",
      "\u001b[0;31mValueError\u001b[0m                                Traceback (most recent call last)",
      "\u001b[0;32m<ipython-input-21-0d90020c36a8>\u001b[0m in \u001b[0;36m<module>\u001b[0;34m()\u001b[0m\n\u001b[1;32m     10\u001b[0m \u001b[0;32mfrom\u001b[0m \u001b[0mlxml\u001b[0m\u001b[0;34m.\u001b[0m\u001b[0metree\u001b[0m \u001b[0;32mimport\u001b[0m \u001b[0mtostring\u001b[0m\u001b[0;34m\u001b[0m\u001b[0m\n\u001b[1;32m     11\u001b[0m \u001b[0;32mimport\u001b[0m \u001b[0mbs4\u001b[0m\u001b[0;34m\u001b[0m\u001b[0m\n\u001b[0;32m---> 12\u001b[0;31m \u001b[0;32mimport\u001b[0m \u001b[0mpandas\u001b[0m\u001b[0;34m\u001b[0m\u001b[0m\n\u001b[0m",
      "\u001b[0;32m/Users/bordatadrien/anaconda/lib/python2.7/site-packages/pandas/__init__.pyc\u001b[0m in \u001b[0;36m<module>\u001b[0;34m()\u001b[0m\n\u001b[1;32m     42\u001b[0m \u001b[0;32mimport\u001b[0m \u001b[0mpandas\u001b[0m\u001b[0;34m.\u001b[0m\u001b[0mcore\u001b[0m\u001b[0;34m.\u001b[0m\u001b[0mconfig_init\u001b[0m\u001b[0;34m\u001b[0m\u001b[0m\n\u001b[1;32m     43\u001b[0m \u001b[0;34m\u001b[0m\u001b[0m\n\u001b[0;32m---> 44\u001b[0;31m \u001b[0;32mfrom\u001b[0m \u001b[0mpandas\u001b[0m\u001b[0;34m.\u001b[0m\u001b[0mcore\u001b[0m\u001b[0;34m.\u001b[0m\u001b[0mapi\u001b[0m \u001b[0;32mimport\u001b[0m \u001b[0;34m*\u001b[0m\u001b[0;34m\u001b[0m\u001b[0m\n\u001b[0m\u001b[1;32m     45\u001b[0m \u001b[0;32mfrom\u001b[0m \u001b[0mpandas\u001b[0m\u001b[0;34m.\u001b[0m\u001b[0msparse\u001b[0m\u001b[0;34m.\u001b[0m\u001b[0mapi\u001b[0m \u001b[0;32mimport\u001b[0m \u001b[0;34m*\u001b[0m\u001b[0;34m\u001b[0m\u001b[0m\n\u001b[1;32m     46\u001b[0m \u001b[0;32mfrom\u001b[0m \u001b[0mpandas\u001b[0m\u001b[0;34m.\u001b[0m\u001b[0mstats\u001b[0m\u001b[0;34m.\u001b[0m\u001b[0mapi\u001b[0m \u001b[0;32mimport\u001b[0m \u001b[0;34m*\u001b[0m\u001b[0;34m\u001b[0m\u001b[0m\n",
      "\u001b[0;32m/Users/bordatadrien/anaconda/lib/python2.7/site-packages/pandas/core/api.py\u001b[0m in \u001b[0;36m<module>\u001b[0;34m()\u001b[0m\n\u001b[1;32m      7\u001b[0m \u001b[0;32mfrom\u001b[0m \u001b[0mpandas\u001b[0m\u001b[0;34m.\u001b[0m\u001b[0mcore\u001b[0m\u001b[0;34m.\u001b[0m\u001b[0mcommon\u001b[0m \u001b[0;32mimport\u001b[0m \u001b[0misnull\u001b[0m\u001b[0;34m,\u001b[0m \u001b[0mnotnull\u001b[0m\u001b[0;34m\u001b[0m\u001b[0m\n\u001b[1;32m      8\u001b[0m \u001b[0;32mfrom\u001b[0m \u001b[0mpandas\u001b[0m\u001b[0;34m.\u001b[0m\u001b[0mcore\u001b[0m\u001b[0;34m.\u001b[0m\u001b[0mcategorical\u001b[0m \u001b[0;32mimport\u001b[0m \u001b[0mCategorical\u001b[0m\u001b[0;34m\u001b[0m\u001b[0m\n\u001b[0;32m----> 9\u001b[0;31m \u001b[0;32mfrom\u001b[0m \u001b[0mpandas\u001b[0m\u001b[0;34m.\u001b[0m\u001b[0mcore\u001b[0m\u001b[0;34m.\u001b[0m\u001b[0mgroupby\u001b[0m \u001b[0;32mimport\u001b[0m \u001b[0mGrouper\u001b[0m\u001b[0;34m\u001b[0m\u001b[0m\n\u001b[0m\u001b[1;32m     10\u001b[0m \u001b[0;32mfrom\u001b[0m \u001b[0mpandas\u001b[0m\u001b[0;34m.\u001b[0m\u001b[0mcore\u001b[0m\u001b[0;34m.\u001b[0m\u001b[0mformat\u001b[0m \u001b[0;32mimport\u001b[0m \u001b[0mset_eng_float_format\u001b[0m\u001b[0;34m\u001b[0m\u001b[0m\n\u001b[1;32m     11\u001b[0m \u001b[0;32mfrom\u001b[0m \u001b[0mpandas\u001b[0m\u001b[0;34m.\u001b[0m\u001b[0mcore\u001b[0m\u001b[0;34m.\u001b[0m\u001b[0mindex\u001b[0m \u001b[0;32mimport\u001b[0m \u001b[0mIndex\u001b[0m\u001b[0;34m,\u001b[0m \u001b[0mCategoricalIndex\u001b[0m\u001b[0;34m,\u001b[0m \u001b[0mInt64Index\u001b[0m\u001b[0;34m,\u001b[0m \u001b[0mFloat64Index\u001b[0m\u001b[0;34m,\u001b[0m \u001b[0mMultiIndex\u001b[0m\u001b[0;34m\u001b[0m\u001b[0m\n",
      "\u001b[0;32m/Users/bordatadrien/anaconda/lib/python2.7/site-packages/pandas/core/groupby.py\u001b[0m in \u001b[0;36m<module>\u001b[0;34m()\u001b[0m\n\u001b[1;32m     15\u001b[0m \u001b[0;32mfrom\u001b[0m \u001b[0mpandas\u001b[0m\u001b[0;34m.\u001b[0m\u001b[0mcore\u001b[0m\u001b[0;34m.\u001b[0m\u001b[0mbase\u001b[0m \u001b[0;32mimport\u001b[0m \u001b[0mPandasObject\u001b[0m\u001b[0;34m\u001b[0m\u001b[0m\n\u001b[1;32m     16\u001b[0m \u001b[0;32mfrom\u001b[0m \u001b[0mpandas\u001b[0m\u001b[0;34m.\u001b[0m\u001b[0mcore\u001b[0m\u001b[0;34m.\u001b[0m\u001b[0mcategorical\u001b[0m \u001b[0;32mimport\u001b[0m \u001b[0mCategorical\u001b[0m\u001b[0;34m\u001b[0m\u001b[0m\n\u001b[0;32m---> 17\u001b[0;31m \u001b[0;32mfrom\u001b[0m \u001b[0mpandas\u001b[0m\u001b[0;34m.\u001b[0m\u001b[0mcore\u001b[0m\u001b[0;34m.\u001b[0m\u001b[0mframe\u001b[0m \u001b[0;32mimport\u001b[0m \u001b[0mDataFrame\u001b[0m\u001b[0;34m\u001b[0m\u001b[0m\n\u001b[0m\u001b[1;32m     18\u001b[0m \u001b[0;32mfrom\u001b[0m \u001b[0mpandas\u001b[0m\u001b[0;34m.\u001b[0m\u001b[0mcore\u001b[0m\u001b[0;34m.\u001b[0m\u001b[0mgeneric\u001b[0m \u001b[0;32mimport\u001b[0m \u001b[0mNDFrame\u001b[0m\u001b[0;34m\u001b[0m\u001b[0m\n\u001b[1;32m     19\u001b[0m \u001b[0;32mfrom\u001b[0m \u001b[0mpandas\u001b[0m\u001b[0;34m.\u001b[0m\u001b[0mcore\u001b[0m\u001b[0;34m.\u001b[0m\u001b[0mindex\u001b[0m \u001b[0;32mimport\u001b[0m \u001b[0mIndex\u001b[0m\u001b[0;34m,\u001b[0m \u001b[0mMultiIndex\u001b[0m\u001b[0;34m,\u001b[0m \u001b[0mCategoricalIndex\u001b[0m\u001b[0;34m,\u001b[0m \u001b[0m_ensure_index\u001b[0m\u001b[0;34m\u001b[0m\u001b[0m\n",
      "\u001b[0;32m/Users/bordatadrien/anaconda/lib/python2.7/site-packages/pandas/core/frame.py\u001b[0m in \u001b[0;36m<module>\u001b[0;34m()\u001b[0m\n\u001b[1;32m     39\u001b[0m                                    \u001b[0mcreate_block_manager_from_arrays\u001b[0m\u001b[0;34m,\u001b[0m\u001b[0;34m\u001b[0m\u001b[0m\n\u001b[1;32m     40\u001b[0m                                    create_block_manager_from_blocks)\n\u001b[0;32m---> 41\u001b[0;31m \u001b[0;32mfrom\u001b[0m \u001b[0mpandas\u001b[0m\u001b[0;34m.\u001b[0m\u001b[0mcore\u001b[0m\u001b[0;34m.\u001b[0m\u001b[0mseries\u001b[0m \u001b[0;32mimport\u001b[0m \u001b[0mSeries\u001b[0m\u001b[0;34m\u001b[0m\u001b[0m\n\u001b[0m\u001b[1;32m     42\u001b[0m \u001b[0;32mfrom\u001b[0m \u001b[0mpandas\u001b[0m\u001b[0;34m.\u001b[0m\u001b[0mcore\u001b[0m\u001b[0;34m.\u001b[0m\u001b[0mcategorical\u001b[0m \u001b[0;32mimport\u001b[0m \u001b[0mCategorical\u001b[0m\u001b[0;34m\u001b[0m\u001b[0m\n\u001b[1;32m     43\u001b[0m \u001b[0;32mimport\u001b[0m \u001b[0mpandas\u001b[0m\u001b[0;34m.\u001b[0m\u001b[0mcomputation\u001b[0m\u001b[0;34m.\u001b[0m\u001b[0mexpressions\u001b[0m \u001b[0;32mas\u001b[0m \u001b[0mexpressions\u001b[0m\u001b[0;34m\u001b[0m\u001b[0m\n",
      "\u001b[0;32m/Users/bordatadrien/anaconda/lib/python2.7/site-packages/pandas/core/series.py\u001b[0m in \u001b[0;36m<module>\u001b[0;34m()\u001b[0m\n\u001b[1;32m   2907\u001b[0m \u001b[0;31m# Add plotting methods to Series\u001b[0m\u001b[0;34m\u001b[0m\u001b[0;34m\u001b[0m\u001b[0m\n\u001b[1;32m   2908\u001b[0m \u001b[0;34m\u001b[0m\u001b[0m\n\u001b[0;32m-> 2909\u001b[0;31m \u001b[0;32mimport\u001b[0m \u001b[0mpandas\u001b[0m\u001b[0;34m.\u001b[0m\u001b[0mtools\u001b[0m\u001b[0;34m.\u001b[0m\u001b[0mplotting\u001b[0m \u001b[0;32mas\u001b[0m \u001b[0m_gfx\u001b[0m\u001b[0;34m\u001b[0m\u001b[0m\n\u001b[0m\u001b[1;32m   2910\u001b[0m \u001b[0;34m\u001b[0m\u001b[0m\n\u001b[1;32m   2911\u001b[0m \u001b[0mSeries\u001b[0m\u001b[0;34m.\u001b[0m\u001b[0mplot\u001b[0m \u001b[0;34m=\u001b[0m \u001b[0mbase\u001b[0m\u001b[0;34m.\u001b[0m\u001b[0mAccessorProperty\u001b[0m\u001b[0;34m(\u001b[0m\u001b[0m_gfx\u001b[0m\u001b[0;34m.\u001b[0m\u001b[0mSeriesPlotMethods\u001b[0m\u001b[0;34m,\u001b[0m \u001b[0m_gfx\u001b[0m\u001b[0;34m.\u001b[0m\u001b[0mSeriesPlotMethods\u001b[0m\u001b[0;34m)\u001b[0m\u001b[0;34m\u001b[0m\u001b[0m\n",
      "\u001b[0;32m/Users/bordatadrien/anaconda/lib/python2.7/site-packages/pandas/tools/plotting.py\u001b[0m in \u001b[0;36m<module>\u001b[0;34m()\u001b[0m\n\u001b[1;32m     26\u001b[0m \u001b[0;32mfrom\u001b[0m \u001b[0mpandas\u001b[0m\u001b[0;34m.\u001b[0m\u001b[0mutil\u001b[0m\u001b[0;34m.\u001b[0m\u001b[0mdecorators\u001b[0m \u001b[0;32mimport\u001b[0m \u001b[0mAppender\u001b[0m\u001b[0;34m\u001b[0m\u001b[0m\n\u001b[1;32m     27\u001b[0m \u001b[0;32mtry\u001b[0m\u001b[0;34m:\u001b[0m  \u001b[0;31m# mpl optional\u001b[0m\u001b[0;34m\u001b[0m\u001b[0m\n\u001b[0;32m---> 28\u001b[0;31m     \u001b[0;32mimport\u001b[0m \u001b[0mpandas\u001b[0m\u001b[0;34m.\u001b[0m\u001b[0mtseries\u001b[0m\u001b[0;34m.\u001b[0m\u001b[0mconverter\u001b[0m \u001b[0;32mas\u001b[0m \u001b[0mconv\u001b[0m\u001b[0;34m\u001b[0m\u001b[0m\n\u001b[0m\u001b[1;32m     29\u001b[0m     \u001b[0mconv\u001b[0m\u001b[0;34m.\u001b[0m\u001b[0mregister\u001b[0m\u001b[0;34m(\u001b[0m\u001b[0;34m)\u001b[0m  \u001b[0;31m# needs to override so set_xlim works with str/number\u001b[0m\u001b[0;34m\u001b[0m\u001b[0m\n\u001b[1;32m     30\u001b[0m \u001b[0;32mexcept\u001b[0m \u001b[0mImportError\u001b[0m\u001b[0;34m:\u001b[0m\u001b[0;34m\u001b[0m\u001b[0m\n",
      "\u001b[0;32m/Users/bordatadrien/anaconda/lib/python2.7/site-packages/pandas/tseries/converter.py\u001b[0m in \u001b[0;36m<module>\u001b[0;34m()\u001b[0m\n\u001b[1;32m      5\u001b[0m \u001b[0;32mfrom\u001b[0m \u001b[0mdateutil\u001b[0m\u001b[0;34m.\u001b[0m\u001b[0mrelativedelta\u001b[0m \u001b[0;32mimport\u001b[0m \u001b[0mrelativedelta\u001b[0m\u001b[0;34m\u001b[0m\u001b[0m\n\u001b[1;32m      6\u001b[0m \u001b[0;34m\u001b[0m\u001b[0m\n\u001b[0;32m----> 7\u001b[0;31m \u001b[0;32mimport\u001b[0m \u001b[0mmatplotlib\u001b[0m\u001b[0;34m.\u001b[0m\u001b[0munits\u001b[0m \u001b[0;32mas\u001b[0m \u001b[0munits\u001b[0m\u001b[0;34m\u001b[0m\u001b[0m\n\u001b[0m\u001b[1;32m      8\u001b[0m \u001b[0;32mimport\u001b[0m \u001b[0mmatplotlib\u001b[0m\u001b[0;34m.\u001b[0m\u001b[0mdates\u001b[0m \u001b[0;32mas\u001b[0m \u001b[0mdates\u001b[0m\u001b[0;34m\u001b[0m\u001b[0m\n\u001b[1;32m      9\u001b[0m \u001b[0;34m\u001b[0m\u001b[0m\n",
      "\u001b[0;32m/Users/bordatadrien/anaconda/lib/python2.7/site-packages/matplotlib/__init__.py\u001b[0m in \u001b[0;36m<module>\u001b[0;34m()\u001b[0m\n\u001b[1;32m   1129\u001b[0m \u001b[0;34m\u001b[0m\u001b[0m\n\u001b[1;32m   1130\u001b[0m \u001b[0;31m# this is the instance used by the matplotlib classes\u001b[0m\u001b[0;34m\u001b[0m\u001b[0;34m\u001b[0m\u001b[0m\n\u001b[0;32m-> 1131\u001b[0;31m \u001b[0mrcParams\u001b[0m \u001b[0;34m=\u001b[0m \u001b[0mrc_params\u001b[0m\u001b[0;34m(\u001b[0m\u001b[0;34m)\u001b[0m\u001b[0;34m\u001b[0m\u001b[0m\n\u001b[0m\u001b[1;32m   1132\u001b[0m \u001b[0;34m\u001b[0m\u001b[0m\n\u001b[1;32m   1133\u001b[0m \u001b[0;32mif\u001b[0m \u001b[0mrcParams\u001b[0m\u001b[0;34m[\u001b[0m\u001b[0;34m'examples.directory'\u001b[0m\u001b[0;34m]\u001b[0m\u001b[0;34m:\u001b[0m\u001b[0;34m\u001b[0m\u001b[0m\n",
      "\u001b[0;32m/Users/bordatadrien/anaconda/lib/python2.7/site-packages/matplotlib/__init__.py\u001b[0m in \u001b[0;36mrc_params\u001b[0;34m(fail_on_error)\u001b[0m\n\u001b[1;32m    973\u001b[0m         \u001b[0;32mreturn\u001b[0m \u001b[0mret\u001b[0m\u001b[0;34m\u001b[0m\u001b[0m\n\u001b[1;32m    974\u001b[0m \u001b[0;34m\u001b[0m\u001b[0m\n\u001b[0;32m--> 975\u001b[0;31m     \u001b[0;32mreturn\u001b[0m \u001b[0mrc_params_from_file\u001b[0m\u001b[0;34m(\u001b[0m\u001b[0mfname\u001b[0m\u001b[0;34m,\u001b[0m \u001b[0mfail_on_error\u001b[0m\u001b[0;34m)\u001b[0m\u001b[0;34m\u001b[0m\u001b[0m\n\u001b[0m\u001b[1;32m    976\u001b[0m \u001b[0;34m\u001b[0m\u001b[0m\n\u001b[1;32m    977\u001b[0m \u001b[0;34m\u001b[0m\u001b[0m\n",
      "\u001b[0;32m/Users/bordatadrien/anaconda/lib/python2.7/site-packages/matplotlib/__init__.py\u001b[0m in \u001b[0;36mrc_params_from_file\u001b[0;34m(fname, fail_on_error, use_default_template)\u001b[0m\n\u001b[1;32m   1098\u001b[0m         \u001b[0mparameters\u001b[0m \u001b[0mspecified\u001b[0m \u001b[0;32min\u001b[0m \u001b[0mthe\u001b[0m \u001b[0mfile\u001b[0m\u001b[0;34m.\u001b[0m \u001b[0;34m(\u001b[0m\u001b[0mUseful\u001b[0m \u001b[0;32mfor\u001b[0m \u001b[0mupdating\u001b[0m \u001b[0mdicts\u001b[0m\u001b[0;34m.\u001b[0m\u001b[0;34m)\u001b[0m\u001b[0;34m\u001b[0m\u001b[0m\n\u001b[1;32m   1099\u001b[0m     \"\"\"\n\u001b[0;32m-> 1100\u001b[0;31m     \u001b[0mconfig_from_file\u001b[0m \u001b[0;34m=\u001b[0m \u001b[0m_rc_params_in_file\u001b[0m\u001b[0;34m(\u001b[0m\u001b[0mfname\u001b[0m\u001b[0;34m,\u001b[0m \u001b[0mfail_on_error\u001b[0m\u001b[0;34m)\u001b[0m\u001b[0;34m\u001b[0m\u001b[0m\n\u001b[0m\u001b[1;32m   1101\u001b[0m \u001b[0;34m\u001b[0m\u001b[0m\n\u001b[1;32m   1102\u001b[0m     \u001b[0;32mif\u001b[0m \u001b[0;32mnot\u001b[0m \u001b[0muse_default_template\u001b[0m\u001b[0;34m:\u001b[0m\u001b[0;34m\u001b[0m\u001b[0m\n",
      "\u001b[0;32m/Users/bordatadrien/anaconda/lib/python2.7/site-packages/matplotlib/__init__.py\u001b[0m in \u001b[0;36m_rc_params_in_file\u001b[0;34m(fname, fail_on_error)\u001b[0m\n\u001b[1;32m   1016\u001b[0m     \u001b[0mcnt\u001b[0m \u001b[0;34m=\u001b[0m \u001b[0;36m0\u001b[0m\u001b[0;34m\u001b[0m\u001b[0m\n\u001b[1;32m   1017\u001b[0m     \u001b[0mrc_temp\u001b[0m \u001b[0;34m=\u001b[0m \u001b[0;34m{\u001b[0m\u001b[0;34m}\u001b[0m\u001b[0;34m\u001b[0m\u001b[0m\n\u001b[0;32m-> 1018\u001b[0;31m     \u001b[0;32mwith\u001b[0m \u001b[0m_open_file_or_url\u001b[0m\u001b[0;34m(\u001b[0m\u001b[0mfname\u001b[0m\u001b[0;34m)\u001b[0m \u001b[0;32mas\u001b[0m \u001b[0mfd\u001b[0m\u001b[0;34m:\u001b[0m\u001b[0;34m\u001b[0m\u001b[0m\n\u001b[0m\u001b[1;32m   1019\u001b[0m         \u001b[0;32mtry\u001b[0m\u001b[0;34m:\u001b[0m\u001b[0;34m\u001b[0m\u001b[0m\n\u001b[1;32m   1020\u001b[0m             \u001b[0;32mfor\u001b[0m \u001b[0mline\u001b[0m \u001b[0;32min\u001b[0m \u001b[0mfd\u001b[0m\u001b[0;34m:\u001b[0m\u001b[0;34m\u001b[0m\u001b[0m\n",
      "\u001b[0;32m/Users/bordatadrien/anaconda/lib/python2.7/contextlib.pyc\u001b[0m in \u001b[0;36m__enter__\u001b[0;34m(self)\u001b[0m\n\u001b[1;32m     15\u001b[0m     \u001b[0;32mdef\u001b[0m \u001b[0m__enter__\u001b[0m\u001b[0;34m(\u001b[0m\u001b[0mself\u001b[0m\u001b[0;34m)\u001b[0m\u001b[0;34m:\u001b[0m\u001b[0;34m\u001b[0m\u001b[0m\n\u001b[1;32m     16\u001b[0m         \u001b[0;32mtry\u001b[0m\u001b[0;34m:\u001b[0m\u001b[0;34m\u001b[0m\u001b[0m\n\u001b[0;32m---> 17\u001b[0;31m             \u001b[0;32mreturn\u001b[0m \u001b[0mself\u001b[0m\u001b[0;34m.\u001b[0m\u001b[0mgen\u001b[0m\u001b[0;34m.\u001b[0m\u001b[0mnext\u001b[0m\u001b[0;34m(\u001b[0m\u001b[0;34m)\u001b[0m\u001b[0;34m\u001b[0m\u001b[0m\n\u001b[0m\u001b[1;32m     18\u001b[0m         \u001b[0;32mexcept\u001b[0m \u001b[0mStopIteration\u001b[0m\u001b[0;34m:\u001b[0m\u001b[0;34m\u001b[0m\u001b[0m\n\u001b[1;32m     19\u001b[0m             \u001b[0;32mraise\u001b[0m \u001b[0mRuntimeError\u001b[0m\u001b[0;34m(\u001b[0m\u001b[0;34m\"generator didn't yield\"\u001b[0m\u001b[0;34m)\u001b[0m\u001b[0;34m\u001b[0m\u001b[0m\n",
      "\u001b[0;32m/Users/bordatadrien/anaconda/lib/python2.7/site-packages/matplotlib/__init__.py\u001b[0m in \u001b[0;36m_open_file_or_url\u001b[0;34m(fname)\u001b[0m\n\u001b[1;32m    998\u001b[0m     \u001b[0;32melse\u001b[0m\u001b[0;34m:\u001b[0m\u001b[0;34m\u001b[0m\u001b[0m\n\u001b[1;32m    999\u001b[0m         \u001b[0mfname\u001b[0m \u001b[0;34m=\u001b[0m \u001b[0mos\u001b[0m\u001b[0;34m.\u001b[0m\u001b[0mpath\u001b[0m\u001b[0;34m.\u001b[0m\u001b[0mexpanduser\u001b[0m\u001b[0;34m(\u001b[0m\u001b[0mfname\u001b[0m\u001b[0;34m)\u001b[0m\u001b[0;34m\u001b[0m\u001b[0m\n\u001b[0;32m-> 1000\u001b[0;31m         \u001b[0mencoding\u001b[0m \u001b[0;34m=\u001b[0m \u001b[0mlocale\u001b[0m\u001b[0;34m.\u001b[0m\u001b[0mgetdefaultlocale\u001b[0m\u001b[0;34m(\u001b[0m\u001b[0;34m)\u001b[0m\u001b[0;34m[\u001b[0m\u001b[0;36m1\u001b[0m\u001b[0;34m]\u001b[0m\u001b[0;34m\u001b[0m\u001b[0m\n\u001b[0m\u001b[1;32m   1001\u001b[0m         \u001b[0;32mif\u001b[0m \u001b[0mencoding\u001b[0m \u001b[0;32mis\u001b[0m \u001b[0mNone\u001b[0m\u001b[0;34m:\u001b[0m\u001b[0;34m\u001b[0m\u001b[0m\n\u001b[1;32m   1002\u001b[0m             \u001b[0mencoding\u001b[0m \u001b[0;34m=\u001b[0m \u001b[0;34m\"utf-8\"\u001b[0m\u001b[0;34m\u001b[0m\u001b[0m\n",
      "\u001b[0;32m/Users/bordatadrien/anaconda/lib/python2.7/locale.pyc\u001b[0m in \u001b[0;36mgetdefaultlocale\u001b[0;34m(envvars)\u001b[0m\n\u001b[1;32m    541\u001b[0m     \u001b[0;32melse\u001b[0m\u001b[0;34m:\u001b[0m\u001b[0;34m\u001b[0m\u001b[0m\n\u001b[1;32m    542\u001b[0m         \u001b[0mlocalename\u001b[0m \u001b[0;34m=\u001b[0m \u001b[0;34m'C'\u001b[0m\u001b[0;34m\u001b[0m\u001b[0m\n\u001b[0;32m--> 543\u001b[0;31m     \u001b[0;32mreturn\u001b[0m \u001b[0m_parse_localename\u001b[0m\u001b[0;34m(\u001b[0m\u001b[0mlocalename\u001b[0m\u001b[0;34m)\u001b[0m\u001b[0;34m\u001b[0m\u001b[0m\n\u001b[0m\u001b[1;32m    544\u001b[0m \u001b[0;34m\u001b[0m\u001b[0m\n\u001b[1;32m    545\u001b[0m \u001b[0;34m\u001b[0m\u001b[0m\n",
      "\u001b[0;32m/Users/bordatadrien/anaconda/lib/python2.7/locale.pyc\u001b[0m in \u001b[0;36m_parse_localename\u001b[0;34m(localename)\u001b[0m\n\u001b[1;32m    473\u001b[0m     \u001b[0;32melif\u001b[0m \u001b[0mcode\u001b[0m \u001b[0;34m==\u001b[0m \u001b[0;34m'C'\u001b[0m\u001b[0;34m:\u001b[0m\u001b[0;34m\u001b[0m\u001b[0m\n\u001b[1;32m    474\u001b[0m         \u001b[0;32mreturn\u001b[0m \u001b[0mNone\u001b[0m\u001b[0;34m,\u001b[0m \u001b[0mNone\u001b[0m\u001b[0;34m\u001b[0m\u001b[0m\n\u001b[0;32m--> 475\u001b[0;31m     \u001b[0;32mraise\u001b[0m \u001b[0mValueError\u001b[0m\u001b[0;34m,\u001b[0m \u001b[0;34m'unknown locale: %s'\u001b[0m \u001b[0;34m%\u001b[0m \u001b[0mlocalename\u001b[0m\u001b[0;34m\u001b[0m\u001b[0m\n\u001b[0m\u001b[1;32m    476\u001b[0m \u001b[0;34m\u001b[0m\u001b[0m\n\u001b[1;32m    477\u001b[0m \u001b[0;32mdef\u001b[0m \u001b[0m_build_localename\u001b[0m\u001b[0;34m(\u001b[0m\u001b[0mlocaletuple\u001b[0m\u001b[0;34m)\u001b[0m\u001b[0;34m:\u001b[0m\u001b[0;34m\u001b[0m\u001b[0m\n",
      "\u001b[0;31mValueError\u001b[0m: unknown locale: UTF-8"
     ]
    }
   ],
   "source": [
    "\n",
    "import mechanize\n",
    "import cookielib\n",
    "from lxml import html\n",
    "import csv\n",
    "import cStringIO\n",
    "import codecs\n",
    "from random import randint\n",
    "from time import sleep\n",
    "from lxml.etree import tostring\n",
    "import bs4\n",
    "import pandas"
   ]
  },
  {
   "cell_type": "code",
   "execution_count": 3,
   "metadata": {
    "collapsed": false
   },
   "outputs": [
    {
     "name": "stderr",
     "output_type": "stream",
     "text": [
      "/Users/bordatadrien/anaconda/lib/python2.7/site-packages/ipykernel/__main__.py:15: UserWarning: gzip transfer encoding is experimental!\n"
     ]
    }
   ],
   "source": [
    "\n",
    "# Browser\n",
    "br = mechanize.Browser()\n",
    "\n",
    "\n",
    "#learned necessary configuration from\n",
    "#http://stockrt.github.io/p/emulating-a-browser-in-python-with-mechanize/\n",
    "\n",
    "# Allow cookies\n",
    "cj = cookielib.LWPCookieJar()\n",
    "br.set_cookiejar(cj)\n",
    "\n",
    "# Browser options\n",
    "br.set_handle_equiv(True)\n",
    "br.set_handle_gzip(True)\n",
    "br.set_handle_redirect(True)\n",
    "br.set_handle_referer(True)\n",
    "br.set_handle_robots(False)\n",
    "\n",
    "# Follows refresh 0 but not hangs on refresh > 0\n",
    "br.set_handle_refresh(mechanize._http.HTTPRefreshProcessor(), max_time=1)\n",
    "#specify browser to emulate\n",
    "br.addheaders = [('User-agent',\n",
    "'Mozilla/5.0 (X11; U; Linux i686; en-US; rv:1.9.0.1) Gecko/2008071615 Fedora/3.0.1-1.fc9 Firefox/3.0.1')]\n"
   ]
  },
  {
   "cell_type": "code",
   "execution_count": null,
   "metadata": {
    "collapsed": false
   },
   "outputs": [],
   "source": [
    "base_url = 'https://www.airbnb.com/s/'\n",
    "page_url = '?page='\n",
    "location_string = \"Hongkong\""
   ]
  },
  {
   "cell_type": "code",
   "execution_count": null,
   "metadata": {
    "collapsed": false
   },
   "outputs": [],
   "source": [
    "current_url = ''.join([base_url, location_string, page_url,str(1)])\n",
    "current_url"
   ]
  },
  {
   "cell_type": "code",
   "execution_count": null,
   "metadata": {
    "collapsed": false
   },
   "outputs": [],
   "source": [
    "current_url=\"\""
   ]
  },
  {
   "cell_type": "code",
   "execution_count": null,
   "metadata": {
    "collapsed": false
   },
   "outputs": [],
   "source": [
    "def getReviews(tree,ListingId)\n",
    "\n"
   ]
  },
  {
   "cell_type": "code",
   "execution_count": 5,
   "metadata": {
    "collapsed": false
   },
   "outputs": [
    {
     "ename": "NameError",
     "evalue": "name 'getTree' is not defined",
     "output_type": "error",
     "traceback": [
      "\u001b[0;31m---------------------------------------------------------------------------\u001b[0m",
      "\u001b[0;31mNameError\u001b[0m                                 Traceback (most recent call last)",
      "\u001b[0;32m<ipython-input-5-c6f7e06f2437>\u001b[0m in \u001b[0;36m<module>\u001b[0;34m()\u001b[0m\n\u001b[1;32m      1\u001b[0m \u001b[0mturl\u001b[0m \u001b[0;34m=\u001b[0m\u001b[0;34m'https://www.airbnb.com/rooms/4660676'\u001b[0m\u001b[0;34m\u001b[0m\u001b[0m\n\u001b[0;32m----> 2\u001b[0;31m \u001b[0mT\u001b[0m\u001b[0;34m=\u001b[0m \u001b[0mgetTree\u001b[0m\u001b[0;34m(\u001b[0m\u001b[0mturl\u001b[0m\u001b[0;34m)\u001b[0m\u001b[0;34m\u001b[0m\u001b[0m\n\u001b[0m",
      "\u001b[0;31mNameError\u001b[0m: name 'getTree' is not defined"
     ]
    }
   ],
   "source": [
    "turl ='https://www.airbnb.com/rooms/4660676'\n",
    "T= getTree(turl)\n"
   ]
  },
  {
   "cell_type": "code",
   "execution_count": null,
   "metadata": {
    "collapsed": false
   },
   "outputs": [],
   "source": [
    "els = T.xpath('//*[@class=\"review-content\"]')"
   ]
  },
  {
   "cell_type": "code",
   "execution_count": 4,
   "metadata": {
    "collapsed": false
   },
   "outputs": [],
   "source": [
    "urlt = \"https://www.airbnb.com/s/Hongkong\""
   ]
  },
  {
   "cell_type": "code",
   "execution_count": 6,
   "metadata": {
    "collapsed": false
   },
   "outputs": [],
   "source": [
    "treet = html.fromstring(br.open(urlt).get_data())"
   ]
  },
  {
   "cell_type": "code",
   "execution_count": 15,
   "metadata": {
    "collapsed": false
   },
   "outputs": [
    {
     "data": {
      "text/plain": [
       "{'href': '/rooms/7026631?s=2UAURFkP', 'target': 'listing_7026631', 'class': 'text-normal'}"
      ]
     },
     "execution_count": 15,
     "metadata": {},
     "output_type": "execute_result"
    }
   ],
   "source": [
    "treet.xpath('//a[@class=\"text-normal\"]')[0].attrib"
   ]
  },
  {
   "cell_type": "code",
   "execution_count": 20,
   "metadata": {
    "collapsed": false
   },
   "outputs": [
    {
     "data": {
      "text/plain": [
       "'Private bedroom. 5 min to subway!'"
      ]
     },
     "execution_count": 20,
     "metadata": {},
     "output_type": "execute_result"
    }
   ],
   "source": [
    "treet.xpath('//h3[@class=\"h5 listing-name text-truncate row-space-top-1\"]')[0].attrib.get('title')"
   ]
  },
  {
   "cell_type": "code",
   "execution_count": null,
   "metadata": {
    "collapsed": false
   },
   "outputs": [],
   "source": [
    "listingst = treet.xpath('//div[@class=\"listing\"]')"
   ]
  },
  {
   "cell_type": "code",
   "execution_count": null,
   "metadata": {
    "collapsed": false
   },
   "outputs": [],
   "source": [
    "listingst[0]"
   ]
  },
  {
   "cell_type": "code",
   "execution_count": null,
   "metadata": {
    "collapsed": false
   },
   "outputs": [],
   "source": [
    "listingst[0].attrib"
   ]
  },
  {
   "cell_type": "code",
   "execution_count": null,
   "metadata": {
    "collapsed": false
   },
   "outputs": [],
   "source": [
    "listingst[0].attrib.get('data-lat','Unknown')"
   ]
  },
  {
   "cell_type": "code",
   "execution_count": null,
   "metadata": {
    "collapsed": false,
    "scrolled": true
   },
   "outputs": [],
   "source": [
    "ParseMainXML(urlt)"
   ]
  },
  {
   "cell_type": "code",
   "execution_count": null,
   "metadata": {
    "collapsed": false
   },
   "outputs": [],
   "source": [
    "getHostName(T,'dd')"
   ]
  },
  {
   "cell_type": "code",
   "execution_count": null,
   "metadata": {
    "collapsed": true
   },
   "outputs": [],
   "source": [
    "def TreeToSoup(treeObject):\n",
    "    \"\"\"\n",
    "    input: HTML element tree\n",
    "    output: soup object (Beautiful Soup)\n",
    "    This function converts an HTML element tree to a soup object\n",
    "    \"\"\"\n",
    "    source = tostring(treeObject)\n",
    "    soup = bs4.BeautifulSoup(source)\n",
    "    return soup"
   ]
  },
  {
   "cell_type": "code",
   "execution_count": null,
   "metadata": {
    "collapsed": true
   },
   "outputs": [],
   "source": [
    "def getTree(url):\n",
    "    \"\"\"\n",
    "    input\n",
    "        url (string): this is a url string.  example: \"http://www.google.com\"\n",
    "\n",
    "    output\n",
    "        tree object:  will return a tree object if the url is found,\n",
    "        otherwise will return a blank string\n",
    "    \"\"\"\n",
    "    try:\n",
    "        #Implement random time delay for scraping\n",
    "        #sleep(randint(0,1))\n",
    "        tree = html.fromstring(br.open(url).get_data())\n",
    "        return tree\n",
    "\n",
    "    except:\n",
    "        #Pass An Empty String And Error Handling Of Children Functions Will Do\n",
    "        #Appropriate Things\n",
    "        print 'Was not able to fetch data from %s' % url\n",
    "        return ''"
   ]
  },
  {
   "cell_type": "code",
   "execution_count": null,
   "metadata": {
    "collapsed": false
   },
   "outputs": [],
   "source": [
    "turl ='https://www.airbnb.com/rooms/10347807'\n"
   ]
  },
  {
   "cell_type": "code",
   "execution_count": null,
   "metadata": {
    "collapsed": false,
    "scrolled": true
   },
   "outputs": [],
   "source": [
    "sup = TreeToSoup(getTree(turl))"
   ]
  },
  {
   "cell_type": "code",
   "execution_count": null,
   "metadata": {
    "collapsed": false
   },
   "outputs": [],
   "source": [
    "sup.find_all(\"h4\", {\"class\" : \"row-space-4\"})"
   ]
  },
  {
   "cell_type": "code",
   "execution_count": null,
   "metadata": {
    "collapsed": false
   },
   "outputs": [],
   "source": [
    "sup.find_all(\"h4\", {\"class\" : \"row-space-4\"})"
   ]
  },
  {
   "cell_type": "code",
   "execution_count": null,
   "metadata": {
    "collapsed": false
   },
   "outputs": [],
   "source": [
    "dude = sup.find_all(\"h4\", {\"class\" : \"row-space-4\"})[0].text.strip(\"\\n \").encode('utf8')\n",
    "dude"
   ]
  },
  {
   "cell_type": "code",
   "execution_count": null,
   "metadata": {
    "collapsed": false
   },
   "outputs": [],
   "source": [
    "dude.split(\", \")"
   ]
  },
  {
   "cell_type": "code",
   "execution_count": null,
   "metadata": {
    "collapsed": false
   },
   "outputs": [],
   "source": [
    "T = getTree(turl)\n",
    "T"
   ]
  },
  {
   "cell_type": "code",
   "execution_count": null,
   "metadata": {
    "collapsed": false
   },
   "outputs": [],
   "source": [
    "T.attrib"
   ]
  },
  {
   "cell_type": "code",
   "execution_count": null,
   "metadata": {
    "collapsed": false
   },
   "outputs": [],
   "source": [
    "els = T.xpath('//div[@class=\"row\"]/div[@class=\"col-md-3 text-muted\"]/span')"
   ]
  },
  {
   "cell_type": "code",
   "execution_count": null,
   "metadata": {
    "collapsed": false
   },
   "outputs": [],
   "source": [
    "for element in els:\n",
    "        if element.text.find('The Space') >= 0:\n",
    "            #If you find what you are looking for Go Up One Level Then Go Sideways\n",
    "            targetelement = element.getparent().getnext()\n",
    "            break"
   ]
  },
  {
   "cell_type": "code",
   "execution_count": null,
   "metadata": {
    "collapsed": false
   },
   "outputs": [],
   "source": [
    "targetelement.attrib"
   ]
  },
  {
   "cell_type": "code",
   "execution_count": null,
   "metadata": {
    "collapsed": false
   },
   "outputs": [],
   "source": [
    "test = targetelement.getchildren()[0].getchildren()[0].getchildren()[0].getchildren()[0]\n",
    "a=0\n"
   ]
  },
  {
   "cell_type": "code",
   "execution_count": null,
   "metadata": {
    "collapsed": false
   },
   "outputs": [],
   "source": [
    "test.attrib"
   ]
  },
  {
   "cell_type": "code",
   "execution_count": null,
   "metadata": {
    "collapsed": false
   },
   "outputs": [],
   "source": [
    "test.getparent().xpath('.//strong')"
   ]
  },
  {
   "cell_type": "code",
   "execution_count": null,
   "metadata": {
    "collapsed": false
   },
   "outputs": [],
   "source": [
    "T.xpath('//a[@class=\"link-reset\"]')[0].attrib"
   ]
  },
  {
   "cell_type": "code",
   "execution_count": null,
   "metadata": {
    "collapsed": false
   },
   "outputs": [],
   "source": [
    "pro.getparent().xpath('.//strong')[0].text"
   ]
  },
  {
   "cell_type": "code",
   "execution_count": null,
   "metadata": {
    "collapsed": false
   },
   "outputs": [],
   "source": [
    "getSpaceInfo(getTree(turl))"
   ]
  },
  {
   "cell_type": "code",
   "execution_count": null,
   "metadata": {
    "collapsed": true
   },
   "outputs": [],
   "source": [
    "def getSpaceInfo(tree, ListingID = 'Test'):\n",
    "\n",
    "    \"\"\"\n",
    "    input: xmltree object\n",
    "    output: dict\n",
    "    -----------------\n",
    "    This function parses an individual listing's page to find\n",
    "    the all of the data in the \"Space\" row, such as Number of\n",
    "    Bedrooms, Number of Bathrooms, Check In/Out Time, etc.\n",
    "    \"\"\"\n",
    "    #Initialize Values\n",
    "    dat = {'PropType': 'Not Found', 'Accommodates': 'Not Found',\n",
    "           'Bedrooms': 'Not Found', 'Bathrooms' : 'Not Found',\n",
    "           'NumBeds': 'Not Found', 'BedType': 'Not Found',\n",
    "           'CheckIn': 'Not Found', 'CheckOut': 'Not Found'}\n",
    "\n",
    "    try:\n",
    "        #Get Nodes That Contain The Grey Text, So That You Can Search For Sections\n",
    "        elements = tree.xpath('//div[@class=\"row\"]/div[@class=\"col-md-3 text-muted\"]/span')\n",
    "\n",
    "          #find The space portion of the page,\n",
    "        #then go back up one level and sideways one level\n",
    "        for element in elements:\n",
    "\n",
    "            if element.text.find('The Space') >= 0:\n",
    "                #If you find what you are looking for Go Up One Level Then Go Sideways\n",
    "                targetelement = element.getparent().getnext()\n",
    "                break\n",
    "\n",
    "        #Depth - First Search of The Target Node\n",
    "        descendants = targetelement.iterdescendants()\n",
    "\n",
    "        for descendant in descendants:\n",
    "            #check to make sure there is text in descendant\n",
    "            if descendant.text:\n",
    "                ##Find Property Type##\n",
    "                if descendant.text.find('Property type:') >= 0:\n",
    "                    prop =  descendant.getparent().xpath('.//strong')\n",
    "\n",
    "                    if len(prop) >= 1:\n",
    "                        dat['PropType'] = prop[0].text\n",
    "\n",
    "                ##Find Accomodates ####\n",
    "                if descendant.text.find('Accommodates:') >= 0:\n",
    "                    prop =  descendant.getparent().xpath('.//strong')\n",
    "                    if len(prop) >= 1:\n",
    "                        dat['Accommodates'] = prop[0].text\n",
    "\n",
    "                ##Find Bedrooms ####\n",
    "                if descendant.text.find('Bedrooms:') >= 0:\n",
    "                    prop =  descendant.getparent().xpath('.//strong')\n",
    "                    if len(prop) >= 1:\n",
    "                        dat['Bedrooms'] = prop[0].text\n",
    "\n",
    "                ##Find Bathrooms ####\n",
    "                if descendant.text.find('Bathrooms:') >= 0:\n",
    "                    prop =  descendant.getparent().xpath('.//strong')\n",
    "                    if len(prop) >= 1:\n",
    "                        dat['Bathrooms'] = prop[0].text\n",
    "\n",
    "                ##Find Number of Beds ####\n",
    "                if descendant.text.find('Beds:') >= 0:\n",
    "                    prop =  descendant.getparent().xpath('.//strong')\n",
    "                    if len(prop) >= 1:\n",
    "                        dat['NumBeds'] = prop[0].text\n",
    "\n",
    "                ##Find Bed Type ####\n",
    "                if descendant.text.find('Bed type:') >= 0:\n",
    "                    prop =  descendant.getparent().xpath('.//strong')\n",
    "                    if len(prop) >= 1:\n",
    "                        dat['BedType'] = prop[0].text\n",
    "\n",
    "                ##Find Check In Time ####\n",
    "                if descendant.text.find('Check In:') >= 0:\n",
    "                    prop =  descendant.getparent().xpath('.//strong')\n",
    "                    if len(prop) >= 1:\n",
    "                        dat['CheckIn'] = prop[0].text\n",
    "\n",
    "                ##Find Check Out Time ####\n",
    "                if descendant.text.find('Check Out:') >= 0:\n",
    "                    prop =  descendant.getparent().xpath('.//strong')\n",
    "                    if len(prop) >= 1:\n",
    "                        dat['CheckOut'] = prop[0].text\n",
    "        return dat\n",
    "\n",
    "    except:\n",
    "        print 'Error in getting Space Elements for listing iD: %s' % str(ListingID)\n",
    "        return dat"
   ]
  },
  {
   "cell_type": "code",
   "execution_count": null,
   "metadata": {
    "collapsed": true
   },
   "outputs": [],
   "source": [
    "def getAboutListing(tree, ListingID):\n",
    "    \"\"\"\n",
    "    input: xmltree object\n",
    "    output: string\n",
    "    -----------------\n",
    "    This function parses an individual listing's page to find\n",
    "    the \"About This Listing\" and extracts the associated text\n",
    "    \"\"\"\n",
    "    try:\n",
    "    #Go To The Panel-Body\n",
    "        elements = tree.xpath('//h4[@class=\"space-4 text-center-sm\"]/span')\n",
    "\n",
    "        #Search For \"About This Listing\" In Elements\n",
    "        for element in elements:\n",
    "            if element.text.find('About this listing') >= 0:\n",
    "                #When You Find, it return the text that comes afterwards\n",
    "                return element.getparent().getnext()[0].xpath('.//span')[0].text\n",
    "\n",
    "    except:\n",
    "        print 'Error finding *About Listing* for listing ID: %s' % ListingID\n",
    "        return 'No Description Found'"
   ]
  },
  {
   "cell_type": "code",
   "execution_count": null,
   "metadata": {
    "collapsed": true
   },
   "outputs": [],
   "source": [
    "def getAmenitiesList(tree, ListingID):\n",
    "    \"\"\"\n",
    "    input: xmltree object\n",
    "    output: list of available amenities\n",
    "    -----------------\n",
    "    This function parses an individual listing's page to find\n",
    "    the amenities available in the listing.  The amenities that are available\n",
    "    are collected into a list.\n",
    "    \"\"\"\n",
    "    amenities = []\n",
    "\n",
    "    try:\n",
    "        #Get Nodes That Contain The Grey Text, So That You Can Search For Sections\n",
    "        elements = tree.xpath('//div[@class=\"row amenities\"]/div[@class=\"col-md-3 text-muted\"]/span')\n",
    "\n",
    "          #find The price portion of the page,\n",
    "          #then go back up one level and sideways one level\n",
    "        for element in elements:\n",
    "\n",
    "            if element.text.find('Amenities') >= 0:\n",
    "                #If you find what you are looking for Go Up One Level Then Go Sideways\n",
    "                targetelement = element.getparent().getnext()\n",
    "                break\n",
    "\n",
    "        content = targetelement.xpath('//*[@class=\"expandable-content-full\"]')\n",
    "\n",
    "\n",
    "        if len(content) >= 1:\n",
    "            for amenity in content[0].xpath('.//span/strong/text()'):\n",
    "                amenities.append(amenity.strip())\n",
    "\n",
    "        return list(set(amenities))\n",
    "\n",
    "    except:\n",
    "        print 'Error in getting amenities for listing iD: %s' % str(ListingID)\n",
    "        return amenities\n"
   ]
  },
  {
   "cell_type": "code",
   "execution_count": null,
   "metadata": {
    "collapsed": false
   },
   "outputs": [],
   "source": [
    "getAmenitiesList(T,'3')"
   ]
  },
  {
   "cell_type": "code",
   "execution_count": null,
   "metadata": {
    "collapsed": false
   },
   "outputs": [],
   "source": [
    "T.xpath('//div[@class=\"expandable-content expandable-content-full\"]')"
   ]
  },
  {
   "cell_type": "code",
   "execution_count": null,
   "metadata": {
    "collapsed": false
   },
   "outputs": [],
   "source": [
    "tree= getTree('https://www.airbnb.com/rooms/10347807')"
   ]
  },
  {
   "cell_type": "code",
   "execution_count": null,
   "metadata": {
    "collapsed": false
   },
   "outputs": [],
   "source": [
    "getPriceInfo(tree,'2')"
   ]
  },
  {
   "cell_type": "code",
   "execution_count": null,
   "metadata": {
    "collapsed": true
   },
   "outputs": [],
   "source": [
    "\n",
    "def getPriceInfo(tree, ListingID):\n",
    "    \"\"\"\n",
    "    input: xmltree object\n",
    "    output: dict\n",
    "    -----------------\n",
    "    This function parses an individual listing's page to find\n",
    "    the all of the data in the \"Price\" row, such as Cleaning Fee, Security Deposit, Weekly discount, etc.\n",
    "    \"\"\"\n",
    "    #Initialize Values\n",
    "    dat = {'ExtraPeople': 'Not Found', 'CleaningFee': 'Not Found', 'SecurityDeposit': 'Not Found',\n",
    "       'Weeklydiscount': 'Not Found','Monthlydiscount': 'Not Found','Cancellation' : 'Not Found'}\n",
    "\n",
    "    try:\n",
    "        #Get Nodes That Contain The Grey Text, So That You Can Search For Sections\n",
    "        elements = tree.xpath('//div[@class=\"row\"]/div[@class=\"col-md-3 text-muted\"]/span')\n",
    "\n",
    "          #find The price portion of the page,\n",
    "          #then go back up one level and sideways one level\n",
    "        for element in elements:\n",
    "\n",
    "            if element.text.find('Prices') >= 0:\n",
    "                #If you find what you are looking for Go Up One Level Then Go Sideways\n",
    "                targetelement = element.getparent().getnext()\n",
    "                break\n",
    "\n",
    "        #Depth - First Search of The Target Node\n",
    "        descendants = targetelement.iterdescendants()\n",
    "\n",
    "        for descendant in descendants:\n",
    "            #check to make sure there is text in descendant\n",
    "            if descendant.text:\n",
    "                ##Find Extra People Free ##\n",
    "                if descendant.text.find('Extra people:') >= 0:\n",
    "                    prop =  descendant.getparent().xpath('.//strong')\n",
    "                    if len(prop) >= 1:\n",
    "                        dat['ExtraPeople'] = prop[0].text\n",
    "\n",
    "                ##Find Cleaning Fee ####\n",
    "                if descendant.text.find('Cleaning Fee:') >= 0:\n",
    "                    prop =  descendant.getparent().xpath('.//strong')\n",
    "                    if len(prop) >= 1:\n",
    "                        dat['CleaningFee'] = prop[0].text\n",
    "\n",
    "                ##Find Security Deposit ####\n",
    "                if descendant.text.find('Security Deposit:') >= 0:\n",
    "                    prop =  descendant.getparent().xpath('.//strong')\n",
    "                    if len(prop) >= 1:\n",
    "                        dat['SecurityDeposit'] = prop[0].text\n",
    "\n",
    "                ##Find Weekly Price ####\n",
    "                if descendant.text.find('Weekly discount:') >= 0:\n",
    "                    prop =  descendant.getparent().xpath('.//strong')\n",
    "                    if len(prop) >= 1:\n",
    "                        dat['Weeklydiscount'] = prop[0].text\n",
    "\n",
    "                ##Find Monthly Price ####\n",
    "                if descendant.text.find('Monthly discount:') >= 0:\n",
    "                    prop =  descendant.getparent().xpath('.//strong')\n",
    "                    if len(prop) >= 1:\n",
    "                        dat['Monthlydiscount'] = prop[0].text\n",
    "\n",
    "                ##Find Cancellation ####\n",
    "                if descendant.text.find('Cancellation:') >= 0:\n",
    "                    prop =  descendant.getparent().xpath('.//strong')\n",
    "                    if len(prop) >= 1:\n",
    "                        dat['Cancellation'] = prop[0].text\n",
    "        return dat\n",
    "\n",
    "    except:\n",
    "        print 'Error in getting Space Elements for listing iD: %s' % str(ListingID)\n",
    "        return dat"
   ]
  },
  {
   "cell_type": "code",
   "execution_count": null,
   "metadata": {
    "collapsed": false
   },
   "outputs": [],
   "source": [
    "T.xpath('//div[@class=\"row\"]/div[@class=\"col-md-3 text-muted\"]/span')[1].getparent().getnext()"
   ]
  },
  {
   "cell_type": "code",
   "execution_count": null,
   "metadata": {
    "collapsed": false
   },
   "outputs": [],
   "source": [
    "for el in T.xpath('//div[@class=\"row\"]/div[@class=\"col-md-3 text-muted\"]/span'):\n",
    "    print el.text"
   ]
  },
  {
   "cell_type": "code",
   "execution_count": null,
   "metadata": {
    "collapsed": false
   },
   "outputs": [],
   "source": [
    "getPriceInfo(T,\"d\")\n"
   ]
  },
  {
   "cell_type": "code",
   "execution_count": null,
   "metadata": {
    "collapsed": false
   },
   "outputs": [],
   "source": [
    "T=getTree(url)"
   ]
  },
  {
   "cell_type": "code",
   "execution_count": null,
   "metadata": {
    "collapsed": true
   },
   "outputs": [],
   "source": [
    "import sys  \n",
    "from PyQt4.QtGui import *  \n",
    "from PyQt4.QtCore import *  \n",
    "from PyQt4.QtWebKit import *  \n",
    "from lxml import html \n",
    "\n",
    "#Take this class for granted.Just use result of rendering.\n",
    "\n",
    "class Render(QWebPage):  \n",
    "  def __init__(self, url):  \n",
    "    self.app = QApplication(sys.argv)  \n",
    "    QWebPage.__init__(self)  \n",
    "    self.loadFinished.connect(self._loadFinished)  \n",
    "    self.mainFrame().load(QUrl(url))  \n",
    "    self.app.exec_()  \n",
    "  \n",
    "  def _loadFinished(self, result):  \n",
    "    self.frame = self.mainFrame()  \n",
    "    self.app.quit()  "
   ]
  },
  {
   "cell_type": "code",
   "execution_count": null,
   "metadata": {
    "collapsed": true
   },
   "outputs": [],
   "source": [
    "import time\n",
    "\n",
    "url = 'https://www.airbnb.com/rooms/4660676'"
   ]
  },
  {
   "cell_type": "code",
   "execution_count": null,
   "metadata": {
    "collapsed": false
   },
   "outputs": [],
   "source": [
    "def unpack(p, a, c, k, e=None, d=None):\n",
    "    ''' unpack\n",
    "    Unpacker for the popular Javascript compression algorithm.\n",
    "\n",
    "    @param  p  template code\n",
    "    @param  a  radix for variables in p\n",
    "    @param  c  number of variables in p\n",
    "    @param  k  list of c variable substitutions\n",
    "    @param  e  not used\n",
    "    @param  d  not used\n",
    "    @return p  decompressed string\n",
    "    '''\n",
    "    # Paul Koppen, 2011\n",
    "    for i in xrange(c-1,-1,-1):\n",
    "        if k[i]:\n",
    "            p = re.sub('\\\\b'+int2base(i,a)+'\\\\b', k[i], p)\n",
    "    return p"
   ]
  },
  {
   "cell_type": "code",
   "execution_count": null,
   "metadata": {
    "collapsed": false
   },
   "outputs": [],
   "source": [
    "url = 'https://www.airbnb.com/rooms/10347807'  \n",
    "\n",
    "r = Render(url)  \n",
    "result = r.frame.toHtml()\n",
    "target = html.fromstring(str(result.toAscii()))\n",
    "\n",
    "amenities = []\n",
    "content = target.xpath('//*[@class=\"expandable-content expandable-content-full\"]')[0].xpath('.//span/strong/text()')\n",
    "if len(content)>=1:\n",
    "    amenities = content\n",
    "    \n",
    "\n"
   ]
  },
  {
   "cell_type": "code",
   "execution_count": 1,
   "metadata": {
    "collapsed": false
   },
   "outputs": [
    {
     "ename": "NameError",
     "evalue": "name 'amenities' is not defined",
     "output_type": "error",
     "traceback": [
      "\u001b[0;31m---------------------------------------------------------------------------\u001b[0m",
      "\u001b[0;31mNameError\u001b[0m                                 Traceback (most recent call last)",
      "\u001b[0;32m<ipython-input-1-dba9261e365f>\u001b[0m in \u001b[0;36m<module>\u001b[0;34m()\u001b[0m\n\u001b[0;32m----> 1\u001b[0;31m \u001b[0mamenities\u001b[0m\u001b[0;34m\u001b[0m\u001b[0m\n\u001b[0m",
      "\u001b[0;31mNameError\u001b[0m: name 'amenities' is not defined"
     ]
    }
   ],
   "source": [
    "amenities\n"
   ]
  },
  {
   "cell_type": "code",
   "execution_count": null,
   "metadata": {
    "collapsed": false
   },
   "outputs": [],
   "source": [
    "getAmenitiesList(url,10347807)"
   ]
  },
  {
   "cell_type": "code",
   "execution_count": null,
   "metadata": {
    "collapsed": true
   },
   "outputs": [],
   "source": [
    "url = 'https://www.airbnb.com/rooms/10347807'  "
   ]
  },
  {
   "cell_type": "code",
   "execution_count": null,
   "metadata": {
    "collapsed": false
   },
   "outputs": [],
   "source": [
    "archive_links.xpath('//div[@class=\"expandable-content expandable-content-full\"]')[0].attrib"
   ]
  },
  {
   "cell_type": "code",
   "execution_count": null,
   "metadata": {
    "collapsed": false
   },
   "outputs": [],
   "source": [
    "content = archive_links.xpath('//*[@class=\"expandable-content expandable-content-full\"]')[0].xpath('.//span/strong/text()')"
   ]
  },
  {
   "cell_type": "code",
   "execution_count": null,
   "metadata": {
    "collapsed": false
   },
   "outputs": [],
   "source": [
    "len(content)"
   ]
  },
  {
   "cell_type": "code",
   "execution_count": null,
   "metadata": {
    "collapsed": false
   },
   "outputs": [],
   "source": [
    "turl = 'https://www.airbnb.com/rooms/4660676'  "
   ]
  },
  {
   "cell_type": "code",
   "execution_count": null,
   "metadata": {
    "collapsed": false
   },
   "outputs": [],
   "source": [
    "def getAmenitiesList(url, ListingID):\n",
    "    \"\"\"\n",
    "    input: url\n",
    "    output: list of available amenities\n",
    "    -----------------\n",
    "    This function parses an individual listing's page to find\n",
    "    the amenities available in the listing.  The amenities that are available\n",
    "    are collected into a list.\n",
    "    \"\"\"\n",
    "    amenities = []\n",
    "\n",
    "    try:\n",
    "        r = Render(url)  \n",
    "        result = r.frame.toHtml()\n",
    "        target = html.fromstring(str(result.toAscii()))\n",
    "\n",
    "        amenities= target.xpath('//*[@class=\"expandable-content expandable-content-full\"]')[0].xpath('.//span/strong/text()')\n",
    "        \n",
    "        return amenities\n",
    "\n",
    "    except:\n",
    "        print 'Error in getting amenities for listing iD: %s' % str(ListingID)\n",
    "        return amenities\n"
   ]
  },
  {
   "cell_type": "code",
   "execution_count": null,
   "metadata": {
    "collapsed": false
   },
   "outputs": [],
   "source": [
    "getAmenities(turl,'2')"
   ]
  },
  {
   "cell_type": "code",
   "execution_count": null,
   "metadata": {
    "collapsed": false
   },
   "outputs": [],
   "source": [
    "membership_date=target.xpath('//div[@class=\"row row-condensed space-2\"]//span')[0].text\n",
    "membership_date = membership_date.replace(\"Member since\", \"\")\n",
    "membership_date=membership_date.strip()"
   ]
  },
  {
   "cell_type": "code",
   "execution_count": null,
   "metadata": {
    "collapsed": false
   },
   "outputs": [],
   "source": [
    "membership_date"
   ]
  },
  {
   "cell_type": "code",
   "execution_count": null,
   "metadata": {
    "collapsed": true
   },
   "outputs": [],
   "source": [
    "\n",
    "def getAmenities(url, ListingID):\n",
    "    \"\"\"\n",
    "    input: url\n",
    "    output: dict of binary indication if amenity exists or not\n",
    "    -----------------\n",
    "    This function parses an individual listing's page to find\n",
    "    the amenities available in the listing.  The amenities that are available\n",
    "    are collected into a list.\n",
    "    \"\"\"\n",
    "\n",
    "       #Initialize Values\n",
    "    dat = {'Kitchen': 0, 'Internet': 0, 'TV': 0, 'Essentials' : 0,\n",
    "           'Shampoo': 0, 'Heating': 0, 'Air Conditioning': 0, 'Washer': 0,\n",
    "           'Dryer': 0, 'Free Parking on Premises': 0,\n",
    "           'Wireless Internet': 0, 'Cable TV' : 0,'Breakfast': 0, 'Pets Allowed': 0,\n",
    "           'Family/Kid Friendly': 0, 'Suitable for Events': 0,\n",
    "           'Smoking Allowed': 0, 'Wheelchair Accessible': 0,\n",
    "           'Elevator in Building': 0, 'Indoor Fireplace' : 0,\n",
    "           'Buzzer/Wireless Intercom': 0, 'Doorman': 0,\n",
    "           'Pool': 0, 'Hot Tub': 0, 'Gym': 0,'Smoke Detector': 0,\n",
    "           'Carbon Monoxide Detector': 0, 'First Aid Kit' : 0,\n",
    "           'Safety Card': 0, 'Fire Extinguisher': 0}\n",
    "\n",
    "    amenities = getAmenitiesList(url, ListingID)\n",
    "\n",
    "    for amenity in dat.keys():\n",
    "        if amenity in amenities:\n",
    "            dat[amenity] = 1\n",
    "\n",
    "    return dat"
   ]
  },
  {
   "cell_type": "code",
   "execution_count": null,
   "metadata": {
    "collapsed": true
   },
   "outputs": [],
   "source": [
    "listo = [12,2,3,4,4]"
   ]
  },
  {
   "cell_type": "code",
   "execution_count": null,
   "metadata": {
    "collapsed": false
   },
   "outputs": [],
   "source": [
    "assert \"No results found.\" not in driver.page_source"
   ]
  },
  {
   "cell_type": "code",
   "execution_count": null,
   "metadata": {
    "collapsed": true
   },
   "outputs": [],
   "source": [
    "import selenium"
   ]
  },
  {
   "cell_type": "code",
   "execution_count": null,
   "metadata": {
    "collapsed": false
   },
   "outputs": [],
   "source": [
    "from selenium import webdriver\n",
    "from selenium.webdriver.common.keys import Keys\n",
    "from selenium.webdriver.common.action_chains import ActionChains"
   ]
  },
  {
   "cell_type": "code",
   "execution_count": null,
   "metadata": {
    "collapsed": true
   },
   "outputs": [],
   "source": [
    "driver = webdriver.Firefox()\n",
    "driver.get(url)\n",
    "elem = driver.find_element_by_xpath('//a[@class=\"expandable-trigger-more\"]')"
   ]
  },
  {
   "cell_type": "code",
   "execution_count": null,
   "metadata": {
    "collapsed": true
   },
   "outputs": [],
   "source": [
    "elem.send_keys(\"pycon\")\n",
    "elem.send_keys(Keys.RETURN)\n",
    "assert \"No results found.\" not in driver.page_source\n",
    "driver.close()\n"
   ]
  },
  {
   "cell_type": "code",
   "execution_count": null,
   "metadata": {
    "collapsed": false
   },
   "outputs": [],
   "source": [
    "url = 'https://www.airbnb.com/rooms/4660676'\n",
    ".expandable-trigger-more\n",
    "<a class=\"expandable-trigger-more\" href=\"#\" data-reactid=\".wd5qlrng1s.0.0.0.0.1.8.1.0.0.$1.1\"><strong data-reactid=\".wd5qlrng1s.0.0.0.0.1.8.1.0.0.$1.1.0\"><span data-reactid=\".wd5qlrng1s.0.0.0.0.1.8.1.0.0.$1.1.0.0\">+ Plus</span></strong></a>"
   ]
  },
  {
   "cell_type": "code",
   "execution_count": null,
   "metadata": {
    "collapsed": true
   },
   "outputs": [],
   "source": [
    "menu = driver.find_element_by_css_selector(\".nav\")\n",
    "hidden_submenu = driver.find_element_by_css_selector(\".nav #submenu1\")\n",
    "\n",
    "actions = ActionChains(driver)\n",
    "actions.move_to_element(menu)\n",
    "actions.click(hidden_submenu)\n",
    "actions.perform()"
   ]
  },
  {
   "cell_type": "code",
   "execution_count": null,
   "metadata": {
    "collapsed": false
   },
   "outputs": [],
   "source": [
    "actions = ActionChains(driver)"
   ]
  },
  {
   "cell_type": "code",
   "execution_count": null,
   "metadata": {
    "collapsed": false,
    "scrolled": true
   },
   "outputs": [],
   "source": [
    "from selenium import webdriver\n",
    "from selenium.webdriver.common.action_chains import ActionChains\n",
    "\n",
    "url = 'https://www.airbnb.com/rooms/4660676'\n",
    "driver = webdriver.Firefox()\n",
    "driver.get(url)\n",
    "elem = driver.find_element_by_xpath('//a[@class=\"expandable-trigger-more\"]')\n",
    "actions.click(elem).perform()"
   ]
  },
  {
   "cell_type": "code",
   "execution_count": null,
   "metadata": {
    "collapsed": false,
    "scrolled": true
   },
   "outputs": [],
   "source": [
    "#actions.move_to_element(elem)\n",
    "actions.click(elem)\n",
    "#actions.perform()"
   ]
  },
  {
   "cell_type": "code",
   "execution_count": null,
   "metadata": {
    "collapsed": false
   },
   "outputs": [],
   "source": [
    "actions.perform()"
   ]
  },
  {
   "cell_type": "code",
   "execution_count": null,
   "metadata": {
    "collapsed": true
   },
   "outputs": [],
   "source": [
    ".wj0v6pdc74.0.0.0.0.1.8.1.0.0.$1.1"
   ]
  }
 ],
 "metadata": {
  "kernelspec": {
   "display_name": "Python 2",
   "language": "python",
   "name": "python2"
  },
  "language_info": {
   "codemirror_mode": {
    "name": "ipython",
    "version": 2
   },
   "file_extension": ".py",
   "mimetype": "text/x-python",
   "name": "python",
   "nbconvert_exporter": "python",
   "pygments_lexer": "ipython2",
   "version": "2.7.11"
  }
 },
 "nbformat": 4,
 "nbformat_minor": 0
}
